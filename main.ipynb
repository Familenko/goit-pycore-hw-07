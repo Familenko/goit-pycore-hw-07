{
 "cells": [
  {
   "cell_type": "markdown",
   "metadata": {},
   "source": [
    "# Code store"
   ]
  },
  {
   "cell_type": "code",
   "execution_count": 3,
   "metadata": {},
   "outputs": [],
   "source": [
    "from collections import UserDict\n",
    "import re"
   ]
  },
  {
   "cell_type": "code",
   "execution_count": 4,
   "metadata": {},
   "outputs": [],
   "source": [
    "\n",
    "class Field:\n",
    "    def __init__(self, value):\n",
    "        self.value = value\n",
    "\n",
    "    def __str__(self):\n",
    "        return str(self.value)\n",
    "\n",
    "class Name(Field):\n",
    "    def __init__(self, value):\n",
    "        if not value:\n",
    "            raise ValueError(\"Name cannot be empty\")\n",
    "        super().__init__(value)\n",
    "\n",
    "class Phone(Field):\n",
    "    def __init__(self, value):\n",
    "        if not re.match(r'^\\d{10}$', value):\n",
    "            raise ValueError(\"Phone number must be exactly 10 digits\")\n",
    "        super().__init__(value)\n",
    "\n",
    "class Record:\n",
    "    def __init__(self, name):\n",
    "        self.name = Name(name)\n",
    "        self.phones = []\n",
    "\n",
    "    def add_phone(self, phone_number):\n",
    "        self.phones.append(Phone(phone_number))\n",
    "\n",
    "    def remove_phone(self, phone_number):\n",
    "        self.phones = [p for p in self.phones if p.value != phone_number]\n",
    "\n",
    "    def edit_phone(self, old_number, new_number):\n",
    "        for phone in self.phones:\n",
    "            if phone.value == old_number:\n",
    "                phone.value = new_number\n",
    "                return\n",
    "        raise ValueError(\"Old phone number not found\")\n",
    "\n",
    "    def find_phone(self, phone_number):\n",
    "        for phone in self.phones:\n",
    "            if phone.value == phone_number:\n",
    "                return phone.value\n",
    "        return None\n",
    "\n",
    "    def __str__(self):\n",
    "        return f\"Contact name: {self.name.value}, phones: {'; '.join(p.value for p in self.phones)}\"\n",
    "\n",
    "class AddressBook(UserDict):\n",
    "    def add_record(self, record):\n",
    "        self.data[record.name.value] = record\n",
    "\n",
    "    def find(self, name):\n",
    "        return self.data.get(name, None)\n",
    "\n",
    "    def delete(self, name):\n",
    "        if name in self.data:\n",
    "            del self.data[name]"
   ]
  },
  {
   "cell_type": "markdown",
   "metadata": {},
   "source": [
    "# Tests"
   ]
  },
  {
   "cell_type": "code",
   "execution_count": 6,
   "metadata": {},
   "outputs": [],
   "source": [
    "book = AddressBook()\n",
    "\n",
    "john_record = Record(\"John\")\n",
    "john_record.add_phone(\"1234567890\")\n",
    "john_record.add_phone(\"5555555555\")\n",
    "\n",
    "book.add_record(john_record)\n"
   ]
  },
  {
   "cell_type": "markdown",
   "metadata": {},
   "source": [
    "маємо трьохетажний доступ"
   ]
  },
  {
   "cell_type": "code",
   "execution_count": 13,
   "metadata": {},
   "outputs": [
    {
     "data": {
      "text/plain": [
       "'John'"
      ]
     },
     "execution_count": 13,
     "metadata": {},
     "output_type": "execute_result"
    }
   ],
   "source": [
    "book.data['John'].name.value"
   ]
  },
  {
   "cell_type": "code",
   "execution_count": 21,
   "metadata": {},
   "outputs": [
    {
     "name": "stdout",
     "output_type": "stream",
     "text": [
      "1234567890\n",
      "5555555555\n"
     ]
    }
   ],
   "source": [
    "for i in book.data['John'].phones:\n",
    "    print(i.value)"
   ]
  },
  {
   "cell_type": "code",
   "execution_count": 23,
   "metadata": {},
   "outputs": [
    {
     "name": "stdout",
     "output_type": "stream",
     "text": [
      "Contact name: John, phones: 1234567890; 5555555555\n",
      "Contact name: Jane, phones: 9876543210\n"
     ]
    }
   ],
   "source": [
    "jane_record = Record(\"Jane\")\n",
    "jane_record.add_phone(\"9876543210\")\n",
    "book.add_record(jane_record)\n",
    "\n",
    "for name, record in book.data.items():\n",
    "    print(record)"
   ]
  },
  {
   "cell_type": "markdown",
   "metadata": {},
   "source": [
    "зміна обьєкта поза екземпляру book призводить і до зміні в середені book, оскільки він зберігає в собі посилання на обьєкт"
   ]
  },
  {
   "cell_type": "code",
   "execution_count": 24,
   "metadata": {},
   "outputs": [
    {
     "name": "stdout",
     "output_type": "stream",
     "text": [
      "Contact name: John, phones: 1112223333; 5555555555\n"
     ]
    }
   ],
   "source": [
    "john = book.find(\"John\")\n",
    "if john:\n",
    "    john.edit_phone(\"1234567890\", \"1112223333\")\n",
    "    print(john)"
   ]
  },
  {
   "cell_type": "code",
   "execution_count": 27,
   "metadata": {},
   "outputs": [
    {
     "name": "stdout",
     "output_type": "stream",
     "text": [
      "1112223333\n",
      "5555555555\n"
     ]
    }
   ],
   "source": [
    "for i in book.data['John'].phones:\n",
    "    print(i.value)"
   ]
  },
  {
   "cell_type": "code",
   "execution_count": 25,
   "metadata": {},
   "outputs": [
    {
     "name": "stdout",
     "output_type": "stream",
     "text": [
      "John: 5555555555\n"
     ]
    }
   ],
   "source": [
    "if john:\n",
    "    found_phone = john.find_phone(\"5555555555\")\n",
    "    print(f\"{john.name}: {found_phone}\")\n"
   ]
  },
  {
   "cell_type": "code",
   "execution_count": 26,
   "metadata": {},
   "outputs": [
    {
     "name": "stdout",
     "output_type": "stream",
     "text": [
      "Contact name: John, phones: 1112223333; 5555555555\n"
     ]
    }
   ],
   "source": [
    "book.delete(\"Jane\")\n",
    "\n",
    "for name, record in book.data.items():\n",
    "    print(record)"
   ]
  }
 ],
 "metadata": {
  "kernelspec": {
   "display_name": "Python 3",
   "language": "python",
   "name": "python3"
  },
  "language_info": {
   "codemirror_mode": {
    "name": "ipython",
    "version": 3
   },
   "file_extension": ".py",
   "mimetype": "text/x-python",
   "name": "python",
   "nbconvert_exporter": "python",
   "pygments_lexer": "ipython3",
   "version": "3.11.3"
  }
 },
 "nbformat": 4,
 "nbformat_minor": 2
}
